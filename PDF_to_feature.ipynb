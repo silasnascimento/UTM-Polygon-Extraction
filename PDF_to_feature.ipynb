{
 "cells": [
  {
   "cell_type": "code",
   "execution_count": 14,
   "id": "5a3b6d48",
   "metadata": {},
   "outputs": [],
   "source": [
    "import re\n",
    "import geopandas as gpd\n",
    "from shapely.geometry import Polygon\n",
    "from PyPDF2 import PdfReader"
   ]
  },
  {
   "cell_type": "code",
   "execution_count": 15,
   "id": "0c5eb689",
   "metadata": {},
   "outputs": [],
   "source": [
    "# Função para extrair coordenadas UTM do PDF\n",
    "def extract_coordinates_from_pdf(pdf_file):\n",
    "    # Inicializando o leitor de PDF com PdfReader\n",
    "    pdf_reader = PdfReader(pdf_file)\n",
    "    coordinates = []\n",
    "    \n",
    "    # Expressão regular para coordenadas UTM (formato: N 7.747.897,01 m e E 684.187,64 m)\n",
    "    utm_pattern = r'N (\\d{1,3}(?:\\.\\d{3})*(?:,\\d+)?) m\\. e E (\\d{1,3}(?:\\.\\d{3})*(?:,\\d+)?) m'\n",
    "    \n",
    "    for page_num in range(len(pdf_reader.pages)):\n",
    "        page = pdf_reader.pages[page_num]\n",
    "        text = page.extract_text()\n",
    "        \n",
    "        # Procurar por padrões de coordenadas UTM\n",
    "        matches = re.findall(utm_pattern, text)\n",
    "        \n",
    "        for match in matches:\n",
    "            northing = float(match[0].replace('.', '').replace(',', '.'))  # Conversão do formato UTM\n",
    "            easting = float(match[1].replace('.', '').replace(',', '.'))\n",
    "            coordinates.append((easting, northing))\n",
    "    \n",
    "    return coordinates"
   ]
  },
  {
   "cell_type": "raw",
   "id": "21bb0831",
   "metadata": {},
   "source": [
    "print(coordinates)"
   ]
  },
  {
   "cell_type": "code",
   "execution_count": 16,
   "id": "260207ac",
   "metadata": {},
   "outputs": [],
   "source": [
    "# Função para criar um polígono a partir das coordenadas\n",
    "def create_polygon_from_coordinates(coordinates):\n",
    "    if len(coordinates) < 3:\n",
    "        raise ValueError(\"Pelo menos três coordenadas são necessárias para formar um polígono.\")\n",
    "    \n",
    "    # Criar um polígono usando as coordenadas\n",
    "    polygon = Polygon(coordinates)\n",
    "    return polygon"
   ]
  },
  {
   "cell_type": "code",
   "execution_count": 30,
   "id": "19290495",
   "metadata": {},
   "outputs": [],
   "source": [
    "# Função para salvar o polígono em um GeoDataFrame e exportá-lo para um Geodatabase\n",
    "def save_polygon_to_geodatabase(polygon, gdb_path, layer_name):\n",
    "    # Criar um GeoDataFrame\n",
    "    gdf = gpd.GeoDataFrame(index=[0], crs=\"EPSG:31983\", geometry=[polygon])  # CRS UTM zona 23S como exemplo\n",
    "    \n",
    "    # Salvar o GeoDataFrame no Geodatabase especificado\n",
    "    gdf.to_file(gdb_path, layer=layer_name, driver=\"GPKG\")  # Usando Geopackage como exemplo de geodatabase"
   ]
  },
  {
   "cell_type": "code",
   "execution_count": 31,
   "id": "6dbcf290",
   "metadata": {},
   "outputs": [],
   "source": [
    "# Exemplo de uso do script\n",
    "pdf_file_path = 'C:/caminho/PDF\n",
    "gdb_path = 'C:/caminho/geopackage.gpkg'  # Defina o caminho para o geodatabase (GeoPackage)\n",
    "layer_name = 'nome_camada'"
   ]
  },
  {
   "cell_type": "code",
   "execution_count": 32,
   "id": "cdc8557a",
   "metadata": {},
   "outputs": [
    {
     "name": "stdout",
     "output_type": "stream",
     "text": [
      "Polígono salvo no geodatabase em C:/Users/silas.nascimento/OneDrive - Fundação Renova/Documentos/RENOVA/FUNDIARIO/3000253952/Estruturaca_dados_fundiario/poligonais_dados_fundiario.gpkg, camada 'CPLeandroMemorialDescritivoRev01Com_sirgas'\n"
     ]
    }
   ],
   "source": [
    "# Extrair coordenadas do PDF\n",
    "coordinates = extract_coordinates_from_pdf(pdf_file_path)\n",
    "\n",
    "# Criar um polígono\n",
    "polygon = create_polygon_from_coordinates(coordinates)\n",
    "\n",
    "# Salvar o polígono no Geodatabase\n",
    "save_polygon_to_geodatabase(polygon, gdb_path, layer_name)\n",
    "\n",
    "print(f\"Polígono salvo no geodatabase em {gdb_path}, camada '{layer_name}'\")"
   ]
  },
  {
   "cell_type": "code",
   "execution_count": null,
   "id": "fb98e02d",
   "metadata": {},
   "outputs": [],
   "source": []
  }
 ],
 "metadata": {
  "kernelspec": {
   "display_name": "Python 3 (ipykernel)",
   "language": "python",
   "name": "python3"
  },
  "language_info": {
   "codemirror_mode": {
    "name": "ipython",
    "version": 3
   },
   "file_extension": ".py",
   "mimetype": "text/x-python",
   "name": "python",
   "nbconvert_exporter": "python",
   "pygments_lexer": "ipython3",
   "version": "3.9.16"
  }
 },
 "nbformat": 4,
 "nbformat_minor": 5
}
